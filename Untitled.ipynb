{
 "cells": [
  {
   "cell_type": "code",
   "execution_count": 1,
   "id": "7a2f4f90",
   "metadata": {},
   "outputs": [
    {
     "name": "stdout",
     "output_type": "stream",
     "text": [
      "Collecting tensorflow==2.1\n",
      "  Using cached tensorflow-2.1.0-cp37-cp37m-macosx_10_11_x86_64.whl (120.8 MB)\n",
      "Requirement already satisfied: tensorflow-estimator<2.2.0,>=2.1.0rc0 in /Users/ayushchakladar/opt/anaconda3/envs/Traffic/lib/python3.7/site-packages (from tensorflow==2.1) (2.1.0)\n",
      "Requirement already satisfied: wheel>=0.26 in /Users/ayushchakladar/opt/anaconda3/envs/Traffic/lib/python3.7/site-packages (from tensorflow==2.1) (0.38.4)\n",
      "Requirement already satisfied: absl-py>=0.7.0 in /Users/ayushchakladar/opt/anaconda3/envs/Traffic/lib/python3.7/site-packages (from tensorflow==2.1) (1.4.0)\n",
      "Requirement already satisfied: keras-preprocessing>=1.1.0 in /Users/ayushchakladar/opt/anaconda3/envs/Traffic/lib/python3.7/site-packages (from tensorflow==2.1) (1.1.2)\n",
      "Requirement already satisfied: opt-einsum>=2.3.2 in /Users/ayushchakladar/opt/anaconda3/envs/Traffic/lib/python3.7/site-packages (from tensorflow==2.1) (3.3.0)\n",
      "Requirement already satisfied: grpcio>=1.8.6 in /Users/ayushchakladar/opt/anaconda3/envs/Traffic/lib/python3.7/site-packages (from tensorflow==2.1) (1.51.3)\n",
      "Requirement already satisfied: astor>=0.6.0 in /Users/ayushchakladar/opt/anaconda3/envs/Traffic/lib/python3.7/site-packages (from tensorflow==2.1) (0.8.1)\n",
      "Requirement already satisfied: scipy==1.4.1 in /Users/ayushchakladar/opt/anaconda3/envs/Traffic/lib/python3.7/site-packages (from tensorflow==2.1) (1.4.1)\n",
      "Requirement already satisfied: google-pasta>=0.1.6 in /Users/ayushchakladar/opt/anaconda3/envs/Traffic/lib/python3.7/site-packages (from tensorflow==2.1) (0.2.0)\n",
      "Requirement already satisfied: numpy<2.0,>=1.16.0 in /Users/ayushchakladar/opt/anaconda3/envs/Traffic/lib/python3.7/site-packages (from tensorflow==2.1) (1.21.6)\n",
      "Requirement already satisfied: tensorboard<2.2.0,>=2.1.0 in /Users/ayushchakladar/opt/anaconda3/envs/Traffic/lib/python3.7/site-packages (from tensorflow==2.1) (2.1.1)\n",
      "Requirement already satisfied: six>=1.12.0 in /Users/ayushchakladar/opt/anaconda3/envs/Traffic/lib/python3.7/site-packages (from tensorflow==2.1) (1.16.0)\n",
      "Requirement already satisfied: termcolor>=1.1.0 in /Users/ayushchakladar/opt/anaconda3/envs/Traffic/lib/python3.7/site-packages (from tensorflow==2.1) (2.2.0)\n",
      "Requirement already satisfied: keras-applications>=1.0.8 in /Users/ayushchakladar/opt/anaconda3/envs/Traffic/lib/python3.7/site-packages (from tensorflow==2.1) (1.0.8)\n",
      "Requirement already satisfied: wrapt>=1.11.1 in /Users/ayushchakladar/opt/anaconda3/envs/Traffic/lib/python3.7/site-packages (from tensorflow==2.1) (1.15.0)\n",
      "Requirement already satisfied: gast==0.2.2 in /Users/ayushchakladar/opt/anaconda3/envs/Traffic/lib/python3.7/site-packages (from tensorflow==2.1) (0.2.2)\n",
      "Requirement already satisfied: protobuf>=3.8.0 in /Users/ayushchakladar/opt/anaconda3/envs/Traffic/lib/python3.7/site-packages (from tensorflow==2.1) (3.19.6)\n",
      "Requirement already satisfied: h5py in /Users/ayushchakladar/opt/anaconda3/envs/Traffic/lib/python3.7/site-packages (from keras-applications>=1.0.8->tensorflow==2.1) (3.8.0)\n",
      "Requirement already satisfied: google-auth-oauthlib<0.5,>=0.4.1 in /Users/ayushchakladar/opt/anaconda3/envs/Traffic/lib/python3.7/site-packages (from tensorboard<2.2.0,>=2.1.0->tensorflow==2.1) (0.4.6)\n",
      "Requirement already satisfied: markdown>=2.6.8 in /Users/ayushchakladar/opt/anaconda3/envs/Traffic/lib/python3.7/site-packages (from tensorboard<2.2.0,>=2.1.0->tensorflow==2.1) (3.4.3)\n",
      "Requirement already satisfied: werkzeug>=0.11.15 in /Users/ayushchakladar/opt/anaconda3/envs/Traffic/lib/python3.7/site-packages (from tensorboard<2.2.0,>=2.1.0->tensorflow==2.1) (2.2.3)\n",
      "Requirement already satisfied: google-auth<2,>=1.6.3 in /Users/ayushchakladar/opt/anaconda3/envs/Traffic/lib/python3.7/site-packages (from tensorboard<2.2.0,>=2.1.0->tensorflow==2.1) (1.35.0)\n",
      "Requirement already satisfied: requests<3,>=2.21.0 in /Users/ayushchakladar/opt/anaconda3/envs/Traffic/lib/python3.7/site-packages (from tensorboard<2.2.0,>=2.1.0->tensorflow==2.1) (2.28.2)\n",
      "Requirement already satisfied: setuptools>=41.0.0 in /Users/ayushchakladar/opt/anaconda3/envs/Traffic/lib/python3.7/site-packages (from tensorboard<2.2.0,>=2.1.0->tensorflow==2.1) (65.6.3)\n",
      "Requirement already satisfied: pyasn1-modules>=0.2.1 in /Users/ayushchakladar/opt/anaconda3/envs/Traffic/lib/python3.7/site-packages (from google-auth<2,>=1.6.3->tensorboard<2.2.0,>=2.1.0->tensorflow==2.1) (0.2.8)\n",
      "Requirement already satisfied: rsa<5,>=3.1.4 in /Users/ayushchakladar/opt/anaconda3/envs/Traffic/lib/python3.7/site-packages (from google-auth<2,>=1.6.3->tensorboard<2.2.0,>=2.1.0->tensorflow==2.1) (4.9)\n",
      "Requirement already satisfied: cachetools<5.0,>=2.0.0 in /Users/ayushchakladar/opt/anaconda3/envs/Traffic/lib/python3.7/site-packages (from google-auth<2,>=1.6.3->tensorboard<2.2.0,>=2.1.0->tensorflow==2.1) (4.2.4)\n",
      "Requirement already satisfied: requests-oauthlib>=0.7.0 in /Users/ayushchakladar/opt/anaconda3/envs/Traffic/lib/python3.7/site-packages (from google-auth-oauthlib<0.5,>=0.4.1->tensorboard<2.2.0,>=2.1.0->tensorflow==2.1) (1.3.1)\n",
      "Requirement already satisfied: importlib-metadata>=4.4 in /Users/ayushchakladar/opt/anaconda3/envs/Traffic/lib/python3.7/site-packages (from markdown>=2.6.8->tensorboard<2.2.0,>=2.1.0->tensorflow==2.1) (6.0.0)\n",
      "Requirement already satisfied: urllib3<1.27,>=1.21.1 in /Users/ayushchakladar/opt/anaconda3/envs/Traffic/lib/python3.7/site-packages (from requests<3,>=2.21.0->tensorboard<2.2.0,>=2.1.0->tensorflow==2.1) (1.26.15)\n",
      "Requirement already satisfied: idna<4,>=2.5 in /Users/ayushchakladar/opt/anaconda3/envs/Traffic/lib/python3.7/site-packages (from requests<3,>=2.21.0->tensorboard<2.2.0,>=2.1.0->tensorflow==2.1) (3.4)\n",
      "Requirement already satisfied: charset-normalizer<4,>=2 in /Users/ayushchakladar/opt/anaconda3/envs/Traffic/lib/python3.7/site-packages (from requests<3,>=2.21.0->tensorboard<2.2.0,>=2.1.0->tensorflow==2.1) (3.1.0)\n",
      "Requirement already satisfied: certifi>=2017.4.17 in /Users/ayushchakladar/opt/anaconda3/envs/Traffic/lib/python3.7/site-packages (from requests<3,>=2.21.0->tensorboard<2.2.0,>=2.1.0->tensorflow==2.1) (2022.12.7)\n",
      "Requirement already satisfied: MarkupSafe>=2.1.1 in /Users/ayushchakladar/opt/anaconda3/envs/Traffic/lib/python3.7/site-packages (from werkzeug>=0.11.15->tensorboard<2.2.0,>=2.1.0->tensorflow==2.1) (2.1.2)\n",
      "Requirement already satisfied: typing-extensions>=3.6.4 in /Users/ayushchakladar/opt/anaconda3/envs/Traffic/lib/python3.7/site-packages (from importlib-metadata>=4.4->markdown>=2.6.8->tensorboard<2.2.0,>=2.1.0->tensorflow==2.1) (4.5.0)\n",
      "Requirement already satisfied: zipp>=0.5 in /Users/ayushchakladar/opt/anaconda3/envs/Traffic/lib/python3.7/site-packages (from importlib-metadata>=4.4->markdown>=2.6.8->tensorboard<2.2.0,>=2.1.0->tensorflow==2.1) (3.15.0)\n",
      "Requirement already satisfied: pyasn1<0.5.0,>=0.4.6 in /Users/ayushchakladar/opt/anaconda3/envs/Traffic/lib/python3.7/site-packages (from pyasn1-modules>=0.2.1->google-auth<2,>=1.6.3->tensorboard<2.2.0,>=2.1.0->tensorflow==2.1) (0.4.8)\n",
      "Requirement already satisfied: oauthlib>=3.0.0 in /Users/ayushchakladar/opt/anaconda3/envs/Traffic/lib/python3.7/site-packages (from requests-oauthlib>=0.7.0->google-auth-oauthlib<0.5,>=0.4.1->tensorboard<2.2.0,>=2.1.0->tensorflow==2.1) (3.2.2)\n",
      "Installing collected packages: tensorflow\n",
      "Successfully installed tensorflow-2.1.0\n"
     ]
    }
   ],
   "source": [
    "!pip install tensorflow==2.1"
   ]
  },
  {
   "cell_type": "code",
   "execution_count": null,
   "id": "2f5b2f79",
   "metadata": {},
   "outputs": [],
   "source": [
    "import os\n",
    "import numpy as np\n",
    "import pandas as pd\n",
    "import tensorflow as tf\n",
    "import matplotlib.pyplot as plt\n",
    "import sklearn.preprocessing\n",
    "from sklearn.metrics import r2_score\n",
    "\n",
    "from keras.layers import Dense,Dropout,SimpleRNN,LSTM\n",
    "from keras.models import Sequential\n",
    "\n",
    "#check all the files in the input dataset\n",
    "print(os.listdir(\"../input/\"))"
   ]
  },
  {
   "cell_type": "code",
   "execution_count": null,
   "id": "e9c6bdf1",
   "metadata": {},
   "outputs": [],
   "source": [
    "df = pd.read_csv('Traffic data.csv')\n",
    "df.head()"
   ]
  },
  {
   "cell_type": "code",
   "execution_count": null,
   "id": "d1d138db",
   "metadata": {},
   "outputs": [],
   "source": [
    "df"
   ]
  },
  {
   "cell_type": "code",
   "execution_count": null,
   "id": "c4313b0e",
   "metadata": {},
   "outputs": [],
   "source": [
    "df.drop(df.columns[[0]], axis=1, inplace=False).plot(style='.', figsize=(15,5), title='Traffic count')\n",
    "plt.show()"
   ]
  },
  {
   "cell_type": "code",
   "execution_count": null,
   "id": "0ecef485",
   "metadata": {},
   "outputs": [],
   "source": [
    "df"
   ]
  },
  {
   "cell_type": "code",
   "execution_count": null,
   "id": "8e961cd0",
   "metadata": {},
   "outputs": [],
   "source": [
    "df.isnull().sum()"
   ]
  },
  {
   "cell_type": "code",
   "execution_count": null,
   "id": "1dfd99c3",
   "metadata": {},
   "outputs": [],
   "source": [
    "df.info()"
   ]
  },
  {
   "cell_type": "code",
   "execution_count": null,
   "id": "2b598945",
   "metadata": {},
   "outputs": [],
   "source": [
    "df['Datetime'] = pd.to_datetime(df['Datetime'], format='%d-%m-%Y %H:%M')\n",
    "df.info()"
   ]
  },
  {
   "cell_type": "code",
   "execution_count": null,
   "id": "e0ad3b09",
   "metadata": {},
   "outputs": [],
   "source": [
    "# EDA\n",
    "plt.figure(figsize=(10,7))\n",
    "plt.plot(df['Datetime'], df['Count'])\n",
    "plt.show()"
   ]
  },
  {
   "cell_type": "code",
   "execution_count": null,
   "id": "339b70b6",
   "metadata": {},
   "outputs": [],
   "source": [
    "# EDA\n",
    "plt.figure(figsize=(10,7))\n",
    "df.iloc[216:264].plot(x='Datetime', y='Count')\n",
    "plt.show()"
   ]
  },
  {
   "cell_type": "markdown",
   "id": "0bdf37d2",
   "metadata": {},
   "source": [
    "## Format data for the model"
   ]
  },
  {
   "cell_type": "code",
   "execution_count": null,
   "id": "86332918",
   "metadata": {},
   "outputs": [],
   "source": [
    "df.index = df['Datetime']\n",
    "df['y'] = df['Count']\n",
    "df.drop(columns=['ID', 'Datetime', 'Count'], axis=1, inplace=True)\n",
    "#df = df.resample('D').sum()\n",
    "df.head()"
   ]
  },
  {
   "cell_type": "code",
   "execution_count": null,
   "id": "af1e7e07",
   "metadata": {},
   "outputs": [],
   "source": [
    "df['ds'] = df.index\n",
    "df.head()"
   ]
  },
  {
   "cell_type": "code",
   "execution_count": null,
   "id": "b66bb886",
   "metadata": {},
   "outputs": [],
   "source": [
    "split_date = '18-Aug-2014'\n",
    "df_train = df.loc[df.index <= split_date].copy()\n",
    "df_test = df.loc[df.index > split_date].copy()"
   ]
  },
  {
   "cell_type": "code",
   "execution_count": null,
   "id": "0f9a0f77",
   "metadata": {},
   "outputs": [],
   "source": [
    "df_test.head()"
   ]
  },
  {
   "cell_type": "code",
   "execution_count": null,
   "id": "cacbb594",
   "metadata": {},
   "outputs": [],
   "source": [
    "# Plot train and test so you can see where we have split\n",
    "df_train \\\n",
    "    .rename(columns={'y': 'TEST SET'}) \\\n",
    "    .merge(df_test.rename(columns={'y': 'TRAINING SET'}),\n",
    "          how='outer') \\\n",
    "    .plot(figsize=(15,5), title='Dataset', style='.')\n",
    "\n",
    "plt.show()"
   ]
  },
  {
   "cell_type": "code",
   "execution_count": null,
   "id": "b2bd63f3",
   "metadata": {},
   "outputs": [],
   "source": [
    "def normalize_data(df):\n",
    "    scaler = sklearn.preprocessing.MinMaxScaler()\n",
    "    df['DOM_MW']=scaler.fit_transform(df['DOM_MW'].values.reshape(-1,1))\n",
    "    return df\n",
    "\n",
    "df_norm = normalize_data(df)\n",
    "df_norm.shape"
   ]
  },
  {
   "cell_type": "code",
   "execution_count": null,
   "id": "06fc04c6",
   "metadata": {},
   "outputs": [],
   "source": []
  }
 ],
 "metadata": {
  "kernelspec": {
   "display_name": "Python 3 (ipykernel)",
   "language": "python",
   "name": "python3"
  },
  "language_info": {
   "codemirror_mode": {
    "name": "ipython",
    "version": 3
   },
   "file_extension": ".py",
   "mimetype": "text/x-python",
   "name": "python",
   "nbconvert_exporter": "python",
   "pygments_lexer": "ipython3",
   "version": "3.7.16"
  }
 },
 "nbformat": 4,
 "nbformat_minor": 5
}
